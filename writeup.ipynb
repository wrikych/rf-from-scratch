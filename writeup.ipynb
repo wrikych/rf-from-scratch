{
 "cells": [
  {
   "cell_type": "markdown",
   "metadata": {},
   "source": [
    "A placeholder template for my writeup with the necessary code and details. Fill in and commit gradually. This statement should be the last thing to be edited."
   ]
  },
  {
   "cell_type": "markdown",
   "metadata": {},
   "source": [
    "Some type of intro"
   ]
  },
  {
   "cell_type": "markdown",
   "metadata": {},
   "source": [
    "# 1. Objective"
   ]
  },
  {
   "cell_type": "markdown",
   "metadata": {},
   "source": [
    "Though a complicated process, the goal I set out to achieve is quite straightforward. I wanted to conduct every process necessary to prepare data for, develop, and evaluate a predictive model - solely by the hand of my own math. This includes the development of the model itself, as well as the various mechanisms required to conduct feature engineering and model evaluation. I chose to build a random forest classifier because (among other reasons listed below during our discussion of the properties of random forests and decision trees) the algorithm gave me a manageable level of control through its hyperparameters, which I felt was crucial. Random forests are also robust to outliers and compatible with different data types, which was a flexibility I valued greatly. "
   ]
  },
  {
   "cell_type": "markdown",
   "metadata": {},
   "source": [
    "Besides `pandas` and `numpy`, I used standard python packages like `random` and `collections`, but I didn't want any pre-built data science functionalities so I eschewed packages like `sci-kit-learn`."
   ]
  },
  {
   "cell_type": "code",
   "execution_count": 1,
   "metadata": {},
   "outputs": [],
   "source": [
    "import numpy as np\n",
    "import pandas as pd\n",
    "import random\n",
    "from pprint import pprint\n",
    "from collections import Counter\n",
    "import warnings\n",
    "from pandas.errors import SettingWithCopyWarning\n",
    "warnings.simplefilter(action=\"ignore\", category=SettingWithCopyWarning)\n",
    "warnings.simplefilter(action=\"ignore\", category=FutureWarning)"
   ]
  },
  {
   "cell_type": "markdown",
   "metadata": {},
   "source": [
    "To train and test my model I chose to use a toy dataset that was a twist on a classic - the *Spaceship Titanic* dataset (which can be found here): https://www.kaggle.com/c/spaceship-titanic. \n",
    "\n",
    "The original Titanic dataset is probably one of the most, if not the most, famous toy dataset in the world of data science learning - the dataset exhibits a number of numerical and categorical features for each passenger of the Titanic (age, number of family members, gender, cabin, etc.), with its target being a variable of two levels (whether the passenger in question survived or not). \n",
    "\n",
    "The Spaceship Titanic dataset is a spiritual sibling - though its features are also properties of passengers (now on a spaceship), the target depicts whether said passenger has been transported to their goal location or not. I chose this dataset because of its mix of categorical and numerical features, which I felt would play most interestingly with the abilities of the random forest classifier. "
   ]
  },
  {
   "cell_type": "code",
   "execution_count": 2,
   "metadata": {},
   "outputs": [],
   "source": [
    "main_data = pd.read_csv('train.csv')"
   ]
  },
  {
   "cell_type": "markdown",
   "metadata": {},
   "source": [
    "- Any credits "
   ]
  },
  {
   "cell_type": "markdown",
   "metadata": {},
   "source": [
    "# 2. Logic Behind Decision Trees"
   ]
  },
  {
   "cell_type": "markdown",
   "metadata": {},
   "source": [
    "In short, random forest algorithms are collections of a number of different decision trees, which are predictive algorithms themselves. Each decision tree predicts an outcome, and the random forest algorithm returns the most popular outcome among the decision trees (for example, if I had a random forest classifier with 100 decision trees, and 75 of them voted that a particular passenger had been transported, that is what the random forest model would predict).\n",
    "\n",
    "Therefore, it's beneficial to talk about and implement the inner workings of decision trees, and take a look at optimization strategies to craft the best ones. "
   ]
  },
  {
   "cell_type": "markdown",
   "metadata": {},
   "source": [
    "## The Basic Structure"
   ]
  },
  {
   "cell_type": "markdown",
   "metadata": {},
   "source": [
    "Let's say we had a dataset consisting of four children that either do or don't play the popular phone game Roblox:\n",
    "\n",
    "    - Rob - is 11, a boy, and does NOT play roblox\n",
    "    - Dan - is 6, a boy, and does play roblox\n",
    "    - Monica - is 8, a girl, and does play roblox \n",
    "    - Selena - is 12, a girl and does NOT play roblox\n",
    "\n",
    "Suppose I'm presented with a new child:\n",
    "\n",
    "    - is 7, and a girl\n",
    "\n",
    "A decision tree would look at each different feature and find the split within that feature that best separates those that play roblox with those that do not. In this case, the features are the genders and ages of the children. \n",
    "\n",
    "The decision tree might ask \"is the child a boy or a girl?\", and find that of the girls, 1 plays roblox and 1 doesn't, and likewise for the boys. After that question is asked, the data is split between boys and girls. Each of these separate results is called a **node**. The childen in question is a girl, so we continue down to the node which has only female children in its data. We can then ask the question of age - \"is the child over $10$ or under $10$ years old?\", taking note that the girl under, Monica, plays roblox, whereas the girl over 10, Selena, does not. Therefore, this question splits the data into two **pure nodes** - nodes in which the target value of all instances included are the same. \n",
    "\n",
    "Then, we can use the logic of the decision tree to generate a prediction based on those nodes. Here are the splits, with $P$ and $DP$ representing \"plays roblox\" and \"does not play roblox\" respectively. \n",
    "\n",
    "*with **X** representing an instance in the dataset*:\n",
    "\n",
    "$X$ age $<=10$:\n",
    "\n",
    "    - Y --> Node(Dan, Monica) = (P, P)\n",
    "    - N --> Node(Rob, Selena) = (NP, NP)\n",
    "\n",
    "Since our test child is less than 10 years old, she most likely plays roblox. \n",
    "\n",
    "Our goal is to develop decision trees that end in pure nodes - this implies that the decision tree was able to find splits among features that can directly lead to instances which are only one class or the other. That way, each test instance to predict can be sorted question by question and be associated with a node with a definitive target level. \n",
    "\n",
    "Obviously, there are two big questions here:\n",
    "\n",
    "1. How deep should our tree be? \n",
    "2. How do we determine what splits to make? \n",
    "\n",
    "To understand the answer to these questions, we need to take a look at the metrics we use to optimize our tree's performance and the bias/variance tradeoff associated. "
   ]
  },
  {
   "cell_type": "markdown",
   "metadata": {},
   "source": [
    "## Entropy and Information Gain"
   ]
  },
  {
   "cell_type": "markdown",
   "metadata": {},
   "source": [
    "### Entropy"
   ]
  },
  {
   "cell_type": "markdown",
   "metadata": {},
   "source": [
    "Let's tackle the second question first. "
   ]
  },
  {
   "cell_type": "markdown",
   "metadata": {},
   "source": [
    "Because at the end of the day, all predictive modeling is a collection of mathematical directions and key performance metrics, the quantities and mathematical logic we use to codify decision trees are crucial to their interpretability and optimizability. Decision trees choose the best splits for their nodes using the probabilistic measures of entropy and information gain (which is a kind of cumulative entropy measure).  "
   ]
  },
  {
   "cell_type": "markdown",
   "metadata": {},
   "source": [
    "The formula for entropy is as follows: "
   ]
  },
  {
   "cell_type": "markdown",
   "metadata": {},
   "source": [
    "$H(X) = -\\sum_{i=1}^{n} P(x_i) \\cdot \\log_b(P(x_i)) $, \n",
    "\n",
    "with $b$ conventionally a value of $2$. "
   ]
  },
  {
   "cell_type": "markdown",
   "metadata": {},
   "source": [
    "In simpler terms, the entropy is the negative sum of the probabilities of data in a node (probability of each instance being one of any levels of the target class - in this case, either the probability that the children in one node play roblox or don't). "
   ]
  },
  {
   "cell_type": "markdown",
   "metadata": {},
   "source": [
    "Let's say, in our former example, we split the dataset by asking the gender question (*is the child a boy or a girl?*). We'd then have two nodes.\n",
    "\n",
    "The first node:\n",
    "\n",
    "    - Rob and Dan\n",
    "\n",
    "The second node:\n",
    "\n",
    "    - Monica and Selena\n",
    "\n",
    "To calculate the entropy of the first node, we must first note that the probability of a child in that node playing or not playing roblox is $0.5$, since each outcome has a $1$ in $2$ chance. Then, $ P(x_i) \\cdot \\log_b(P(x_i) $ for each outcome comes to a value of $-0.5$. Taking the negative sum of both log probabilities results in a value of $1$ - the highest entropy can possibly be. This is because there is a perfect diversity in the dataset for that node, since of its two members, there is an equal number that plays or doesn't play roblox. \n",
    "\n",
    "Let's assume now, that in some situation we reach a pure node (where all instances are of one class), in which each child in that node's dataset plays roblox. Note that the probabilities now are $1$ and $0$, which result in log values of $0$ and $0$. Therefore, entropy is minimized when the node reaches a pure state.\n",
    "\n",
    "Put simply, entropy is the state of disorder in a dataset. The more decisive one collection of instances is (the strength of its probability going one way or another), the weaker the entropy. "
   ]
  },
  {
   "cell_type": "markdown",
   "metadata": {},
   "source": [
    "There is one other concept we should visit: "
   ]
  },
  {
   "cell_type": "markdown",
   "metadata": {},
   "source": [
    "### Information Gain "
   ]
  },
  {
   "cell_type": "markdown",
   "metadata": {},
   "source": [
    "The formula for Information Gain is as follows: "
   ]
  },
  {
   "cell_type": "markdown",
   "metadata": {},
   "source": [
    "$ \\text{Gain}(X, Y) = \\text{Entropy}(X) - \\sum_{i=1}^{n} \\frac{|X_i|}{|X|} \\cdot \\text{Entropy}(X_i) $, \n",
    "\n",
    "with feature $Y$ (age/gender) splitting the data $X$ into subsets. $|X_i|$ and $|X|$ represent the number of instances in each split's dataset and the whole dataset, respectively. "
   ]
  },
  {
   "cell_type": "markdown",
   "metadata": {},
   "source": [
    "For binary splits (questions which split nodes into 2 choices, the formula is the following):"
   ]
  },
  {
   "cell_type": "markdown",
   "metadata": {},
   "source": [
    "$IG(X) = -H(X) + (\\frac{|X_L|}{|X|}\\cdot H(X_L)) + (\\frac{|X_R|}{|X|}\\cdot H(X_R))$,"
   ]
  },
  {
   "cell_type": "markdown",
   "metadata": {},
   "source": [
    "Where $X_L$ is the \"left\" split of the data, and $X_R$ is the \"right split. (For example, if the question were \"*is the child over 10?*\", the \"left\" split would contain Dan and Monica, and the right would contain Rob and Selena). The \"directions\" are arbitrary and serve mainly to differentiate the two datasets. "
   ]
  },
  {
   "cell_type": "markdown",
   "metadata": {},
   "source": [
    "Essentially we calculate the negative of the entropy of the dataset before the split, and do the following for each dataset after the split \n",
    "\n",
    "    - find the numerical size proportion of each split compared to the original dataset\n",
    "    - calculate the entropy of the split data \n",
    "\n",
    "Note that our goal, as mentioned above, is to minimize our individual split entropies striving towards pure nodes. Since $H(X_L)$ and $H(X_R)$ result in negative numbers that take away from $-H(X)$ and make our ultimate $IG(X)$ smaller, we want to maximize information gain across nodes. Therefore, **we choose the splits that will net us the highest information gain**. "
   ]
  },
  {
   "cell_type": "markdown",
   "metadata": {},
   "source": [
    "## Bias/Variance Tradeoff"
   ]
  },
  {
   "cell_type": "markdown",
   "metadata": {},
   "source": [
    "So now that we understand the main motivation behind picking splits for a decision tree, let's talk about how deep we should go. When we talk about tree depth, what we really talking about is the number of questions the tree asks - a tree with a depth of 10 will ask 9 different questions about the test instance in order to classify it (the first node is the full dataset), so the questions will be more diverse and specific than, say, a tree of depth 2, which only looks for two conditions. "
   ]
  },
  {
   "cell_type": "markdown",
   "metadata": {},
   "source": [
    "The deeper the tree, the more specific the questions it asks - and the more vulnerable the tree is to noise. Let's revisit our former example:\n",
    "\n",
    "    - Rob - is 11, a boy, and does NOT play roblox\n",
    "    - Dan - is 6, a boy, and does play roblox\n",
    "    - Monica - is 8, a girl, and does play roblox \n",
    "    - Selena - is 12, a girl and does NOT play roblox\n",
    "\n",
    "Currently, the optimal depth for the tree is 2 - this is fairly obvious given the two deciding factors, age and gender, can be separated well enough with 2 questions to terminate at pure nodes as shown above:\n",
    "\n",
    "**Level 1:** ---> $X$ \n",
    "\n",
    "**Level 2:** ---> $X_\\text{age} <= 10$ :\n",
    "\n",
    "******** $p(T)$\n",
    "\n",
    "    - (Dan, Monica) --> (P, P) --> pure node\n",
    "\n",
    "******** $p(F)$\n",
    "\n",
    "    - (Rob, Selena) --> (DP, DP) --> pure node "
   ]
  },
  {
   "cell_type": "markdown",
   "metadata": {},
   "source": [
    "If I set a depth of 3, this is what would happen:"
   ]
  },
  {
   "cell_type": "markdown",
   "metadata": {},
   "source": [
    "**Level 1:** ---> $X$ \n",
    "\n",
    "**Level 2:** ---> $X_\\text{sex} = \\text{male}$ :\n",
    "\n",
    "-------- $\\text{p(T)}$\n",
    "\n",
    "    - (Dan, Rob) --> (P, DP) --> keep going\n",
    "\n",
    "-------- $\\text{p(F)}$\n",
    "\n",
    "    - (Monica, Selena) --> (P, DP) --> keep going  \n",
    "\n",
    "**Level 3:** ---> $X_\\text{age} <= 10$ :\n",
    "\n",
    "-------- $\\text{p(T)}$\n",
    "\n",
    "    - (Dan) --> (P) --> pure node \n",
    "    - (Monica) --> (P) --> pure node\n",
    "\n",
    "-------- $\\text{p(F)}$\n",
    "\n",
    "    - (Rob) --> (DP) --> pure node\n",
    "    - (Selena) --> (DP) --> pure node"
   ]
  },
  {
   "cell_type": "markdown",
   "metadata": {},
   "source": [
    "The tree fits an individual node to each instance in my dataset. The higher the tree depth, the higher the variance of my results because as the questions get more specific so do the subsets they create, and the higher my chances to overfit the model on the data. \n",
    "\n",
    "Similarly, if the tree is not deep enough to tackle the complexity of the dataset, it won't be able to ask enough questions and the splits chosen will be those most linearly correlated with the target, increasing bias. \n",
    "\n",
    "Tree depth will be a hyperparameter we set to control the bias/variance tradeoff of the tree, though as we will see later in this notebook, the random forest architecture has a lot to do with that as well. "
   ]
  },
  {
   "cell_type": "markdown",
   "metadata": {},
   "source": [
    "## Other Benefits and Restrictions of Decision Trees "
   ]
  },
  {
   "cell_type": "markdown",
   "metadata": {},
   "source": [
    "Like any other algorithm, decision trees are appropriate for certain situations and have their own unique set of strengths and shortcomings. \n",
    "\n",
    "Because of the sweeping nature of questions and our ability to set the limit of questions asked, decision trees are robust to outliers (outliers can't easily sway them, unless the depth value is too high) - better splits take precedence. \n",
    "\n",
    "Additionally, the boolean nature of the way decision trees make decisions lend them to be very versatile in the type of data used. Whereas algebra-based algorithms like linear regression require numerical values, since decision trees ask a question and calculate probabilities in real time, there is no need to convert or encode categorical features. \n",
    "\n",
    "However, the meticulous nature of this algorithm makes it expensive to use on large datasets - you'll see me use a sample of my total dataset for the sake of this notebook. Its efficacy is also contingent on the type of data representation the data matrix is. Because decision trees use the actual features to come to a conclusion, datasets such as similarity matrices are illegible to decision trees. \n",
    "\n",
    "#### Feature Engineering Considerations: \n",
    "\n",
    "To reduce noise as much as possible, we will want to minimize collinearity in our features. \n",
    "\n",
    "Another thing to consider is the general balance of the target data. Since the algorithm calculates its metric by directly sorting the dataset, it's absolutely crucial one level isn't oversampled. \n",
    "\n",
    "In this dataset, our target is the `Transported` feature. It has two levels: `True` and `False`."
   ]
  },
  {
   "cell_type": "code",
   "execution_count": 3,
   "metadata": {},
   "outputs": [
    {
     "name": "stdout",
     "output_type": "stream",
     "text": [
      "Percentage of dataset:\n",
      "True: 50.36 %\n",
      "False: 49.64 %\n"
     ]
    }
   ],
   "source": [
    "t = main_data.Transported.value_counts()[0]\n",
    "f = main_data.Transported.value_counts()[1]\n",
    "print(\"Percentage of dataset:\")\n",
    "print(f'True: {t/(t+f) * 100:.2f} %')\n",
    "print(f'False: {f/(t+f) * 100:.2f} %')"
   ]
  },
  {
   "cell_type": "markdown",
   "metadata": {},
   "source": [
    "More or less half... I think our decision trees can tackle the variant $0.7$% of data with the whole robustness to outliers thing. Let's move on and talk about random forests."
   ]
  },
  {
   "cell_type": "markdown",
   "metadata": {},
   "source": [
    "# 3. Logic Behind Random Forest"
   ]
  },
  {
   "cell_type": "markdown",
   "metadata": {},
   "source": [
    "Random forests are essentially collections of decision trees, with a couple of randomness boosts along the way to increase the variability of the results. Let's talk about this on two levels: **how** it's done, and **why**."
   ]
  },
  {
   "cell_type": "markdown",
   "metadata": {},
   "source": [
    "## How"
   ]
  },
  {
   "cell_type": "markdown",
   "metadata": {},
   "source": [
    "1. The first thing our prepped data goes into is **bootstrapping**, where we randomly select a sample of our dataset WITH replacement (meaning we can pick the same one multiple times), as large as our original dataset\n",
    "    \n",
    "\t    - Generate a set of random numbers the same size as the data, with replacement\n",
    "\t\t- Using those numbers as indices, create a new dataset with instances in the corresponding positions \n",
    "\n",
    "2. Next, we also take a random sample (without replacement) of the features. This is called **feature bagging**.\n",
    "        \n",
    "\t\t- Get a list of features of a certain size (this will be a hyperparameter) from the original feature list\n",
    "\t\t- Make a new dataframe out of only those features\n",
    "\n",
    "3. Finally, we decide how many trees we want in our random forest collection. This will also be hyperparameter. The **random forest** is as follows:\n",
    "\n",
    "        - For each tree you want in your list, create a new version of your data through bootstrapping and bagging \n",
    "\t\t- Train your decision tree algorithm on the data (build a tree using the given data)\n",
    "\t\t- Add the tree to a list of trees until you reach your desired length "
   ]
  },
  {
   "cell_type": "markdown",
   "metadata": {},
   "source": [
    "This creates an algorithm that takes a test instance, returns a prediction from each of the trees in its ensemble, and outputs the majority vote,  "
   ]
  },
  {
   "cell_type": "markdown",
   "metadata": {},
   "source": [
    "## Why "
   ]
  },
  {
   "cell_type": "markdown",
   "metadata": {},
   "source": [
    "Though it's fairly clear why a majority vote of multiple entities is more reliable than a single vote by a single entity, there's a more nuanced reason why random forests are structured the way they are. \n",
    "\n",
    "Note that bootstrapping and feature bagging are designed to imbalance and randomize the dataset in a way that heightens variance and tends toward overfitting. Random forests encourage this, and mitigate variance with an elegant solution - majority rule. The law of large numbers suggests that with a wealth of estimators comes a point of convergence by reducing the influence of individual biases. \n",
    "\n",
    "This creates a robust model optimizing both bias and variance and bolsters the strength of decision trees - their diversity. "
   ]
  },
  {
   "cell_type": "markdown",
   "metadata": {},
   "source": [
    "### NOTE:\n",
    "\n",
    "There are still drawbacks - the largest one being the train time complexity. For each tree the random forest algorithm has to generate a new training set with scrambled indices and features, train a tree, and add it to a list. \n",
    "\n",
    "Therefore its time complexity is multiples of the time it takes a decision tree - which is already not the best choice for large datasets - to execute. "
   ]
  },
  {
   "cell_type": "markdown",
   "metadata": {},
   "source": [
    "# 4. The Data"
   ]
  },
  {
   "cell_type": "markdown",
   "metadata": {},
   "source": [
    "Now that we've laid out the groundwork, let's take a look at the data and do some basic EDA to see how we can make our splits. "
   ]
  },
  {
   "cell_type": "code",
   "execution_count": 4,
   "metadata": {},
   "outputs": [
    {
     "name": "stdout",
     "output_type": "stream",
     "text": [
      "<class 'pandas.core.frame.DataFrame'>\n",
      "RangeIndex: 8693 entries, 0 to 8692\n",
      "Data columns (total 14 columns):\n",
      " #   Column        Non-Null Count  Dtype  \n",
      "---  ------        --------------  -----  \n",
      " 0   PassengerId   8693 non-null   object \n",
      " 1   HomePlanet    8492 non-null   object \n",
      " 2   CryoSleep     8476 non-null   object \n",
      " 3   Cabin         8494 non-null   object \n",
      " 4   Destination   8511 non-null   object \n",
      " 5   Age           8514 non-null   float64\n",
      " 6   VIP           8490 non-null   object \n",
      " 7   RoomService   8512 non-null   float64\n",
      " 8   FoodCourt     8510 non-null   float64\n",
      " 9   ShoppingMall  8485 non-null   float64\n",
      " 10  Spa           8510 non-null   float64\n",
      " 11  VRDeck        8505 non-null   float64\n",
      " 12  Name          8493 non-null   object \n",
      " 13  Transported   8693 non-null   bool   \n",
      "dtypes: bool(1), float64(6), object(7)\n",
      "memory usage: 891.5+ KB\n"
     ]
    }
   ],
   "source": [
    "main_data.info()"
   ]
  },
  {
   "cell_type": "markdown",
   "metadata": {},
   "source": [
    "We have some identiication variables - `PassengerID`, `Cabin`, and `Name`. The floating point features besides `Age` represent different ameneties the guests could pay for on the ship, and store the value of the expenses made. We can see that our target column, `Transported` is boolean so we are dealing with the problem of binary classification, and we've seen already that our data is fairly balanced. "
   ]
  },
  {
   "cell_type": "markdown",
   "metadata": {},
   "source": [
    "We also have some null values, and we'll deal with them in feature-specific ways."
   ]
  },
  {
   "cell_type": "code",
   "execution_count": 5,
   "metadata": {},
   "outputs": [
    {
     "data": {
      "text/html": [
       "<div>\n",
       "<style scoped>\n",
       "    .dataframe tbody tr th:only-of-type {\n",
       "        vertical-align: middle;\n",
       "    }\n",
       "\n",
       "    .dataframe tbody tr th {\n",
       "        vertical-align: top;\n",
       "    }\n",
       "\n",
       "    .dataframe thead th {\n",
       "        text-align: right;\n",
       "    }\n",
       "</style>\n",
       "<table border=\"1\" class=\"dataframe\">\n",
       "  <thead>\n",
       "    <tr style=\"text-align: right;\">\n",
       "      <th></th>\n",
       "      <th>PassengerId</th>\n",
       "      <th>HomePlanet</th>\n",
       "      <th>CryoSleep</th>\n",
       "      <th>Cabin</th>\n",
       "      <th>Destination</th>\n",
       "      <th>Age</th>\n",
       "      <th>VIP</th>\n",
       "      <th>RoomService</th>\n",
       "      <th>FoodCourt</th>\n",
       "      <th>ShoppingMall</th>\n",
       "      <th>Spa</th>\n",
       "      <th>VRDeck</th>\n",
       "      <th>Name</th>\n",
       "      <th>Transported</th>\n",
       "    </tr>\n",
       "  </thead>\n",
       "  <tbody>\n",
       "    <tr>\n",
       "      <th>0</th>\n",
       "      <td>0001_01</td>\n",
       "      <td>Europa</td>\n",
       "      <td>False</td>\n",
       "      <td>B/0/P</td>\n",
       "      <td>TRAPPIST-1e</td>\n",
       "      <td>39.0</td>\n",
       "      <td>False</td>\n",
       "      <td>0.0</td>\n",
       "      <td>0.0</td>\n",
       "      <td>0.0</td>\n",
       "      <td>0.0</td>\n",
       "      <td>0.0</td>\n",
       "      <td>Maham Ofracculy</td>\n",
       "      <td>False</td>\n",
       "    </tr>\n",
       "    <tr>\n",
       "      <th>1</th>\n",
       "      <td>0002_01</td>\n",
       "      <td>Earth</td>\n",
       "      <td>False</td>\n",
       "      <td>F/0/S</td>\n",
       "      <td>TRAPPIST-1e</td>\n",
       "      <td>24.0</td>\n",
       "      <td>False</td>\n",
       "      <td>109.0</td>\n",
       "      <td>9.0</td>\n",
       "      <td>25.0</td>\n",
       "      <td>549.0</td>\n",
       "      <td>44.0</td>\n",
       "      <td>Juanna Vines</td>\n",
       "      <td>True</td>\n",
       "    </tr>\n",
       "    <tr>\n",
       "      <th>2</th>\n",
       "      <td>0003_01</td>\n",
       "      <td>Europa</td>\n",
       "      <td>False</td>\n",
       "      <td>A/0/S</td>\n",
       "      <td>TRAPPIST-1e</td>\n",
       "      <td>58.0</td>\n",
       "      <td>True</td>\n",
       "      <td>43.0</td>\n",
       "      <td>3576.0</td>\n",
       "      <td>0.0</td>\n",
       "      <td>6715.0</td>\n",
       "      <td>49.0</td>\n",
       "      <td>Altark Susent</td>\n",
       "      <td>False</td>\n",
       "    </tr>\n",
       "    <tr>\n",
       "      <th>3</th>\n",
       "      <td>0003_02</td>\n",
       "      <td>Europa</td>\n",
       "      <td>False</td>\n",
       "      <td>A/0/S</td>\n",
       "      <td>TRAPPIST-1e</td>\n",
       "      <td>33.0</td>\n",
       "      <td>False</td>\n",
       "      <td>0.0</td>\n",
       "      <td>1283.0</td>\n",
       "      <td>371.0</td>\n",
       "      <td>3329.0</td>\n",
       "      <td>193.0</td>\n",
       "      <td>Solam Susent</td>\n",
       "      <td>False</td>\n",
       "    </tr>\n",
       "    <tr>\n",
       "      <th>4</th>\n",
       "      <td>0004_01</td>\n",
       "      <td>Earth</td>\n",
       "      <td>False</td>\n",
       "      <td>F/1/S</td>\n",
       "      <td>TRAPPIST-1e</td>\n",
       "      <td>16.0</td>\n",
       "      <td>False</td>\n",
       "      <td>303.0</td>\n",
       "      <td>70.0</td>\n",
       "      <td>151.0</td>\n",
       "      <td>565.0</td>\n",
       "      <td>2.0</td>\n",
       "      <td>Willy Santantines</td>\n",
       "      <td>True</td>\n",
       "    </tr>\n",
       "  </tbody>\n",
       "</table>\n",
       "</div>"
      ],
      "text/plain": [
       "  PassengerId HomePlanet CryoSleep  Cabin  Destination   Age    VIP  \\\n",
       "0     0001_01     Europa     False  B/0/P  TRAPPIST-1e  39.0  False   \n",
       "1     0002_01      Earth     False  F/0/S  TRAPPIST-1e  24.0  False   \n",
       "2     0003_01     Europa     False  A/0/S  TRAPPIST-1e  58.0   True   \n",
       "3     0003_02     Europa     False  A/0/S  TRAPPIST-1e  33.0  False   \n",
       "4     0004_01      Earth     False  F/1/S  TRAPPIST-1e  16.0  False   \n",
       "\n",
       "   RoomService  FoodCourt  ShoppingMall     Spa  VRDeck               Name  \\\n",
       "0          0.0        0.0           0.0     0.0     0.0    Maham Ofracculy   \n",
       "1        109.0        9.0          25.0   549.0    44.0       Juanna Vines   \n",
       "2         43.0     3576.0           0.0  6715.0    49.0      Altark Susent   \n",
       "3          0.0     1283.0         371.0  3329.0   193.0       Solam Susent   \n",
       "4        303.0       70.0         151.0   565.0     2.0  Willy Santantines   \n",
       "\n",
       "   Transported  \n",
       "0        False  \n",
       "1         True  \n",
       "2        False  \n",
       "3        False  \n",
       "4         True  "
      ]
     },
     "execution_count": 5,
     "metadata": {},
     "output_type": "execute_result"
    }
   ],
   "source": [
    "main_data.head()"
   ]
  },
  {
   "cell_type": "markdown",
   "metadata": {},
   "source": [
    "## EDA"
   ]
  },
  {
   "cell_type": "markdown",
   "metadata": {},
   "source": [
    "Let's compare some features against the target to see if there are any obvious trends. Since this isn't an algorithm based on algebraic logic, we'll skim for stark assocations between features and the True/False levels of the classes. "
   ]
  },
  {
   "cell_type": "code",
   "execution_count": 6,
   "metadata": {},
   "outputs": [
    {
     "data": {
      "image/png": "[encoded data removed]",
      "text/plain": [
       "<Figure size 1200x600 with 2 Axes>"
      ]
     },
     "metadata": {},
     "output_type": "display_data"
    }
   ],
   "source": [
    "import seaborn as sns\n",
    "import matplotlib.pyplot as plt \n",
    "\n",
    "g = sns.FacetGrid(main_data, col='Transported', height=6)\n",
    "g.map(sns.histplot, 'Age', bins=20, kde=True)\n",
    "\n",
    "# Set titles and labels\n",
    "g.set_axis_labels('Age', 'Count')\n",
    "g.set_titles(col_template='{col_name}')\n",
    "plt.suptitle('Histogram of Age by Transported', y=1.02)\n",
    "\n",
    "plt.show()"
   ]
  },
  {
   "cell_type": "markdown",
   "metadata": {},
   "source": [
    "## Age"
   ]
  },
  {
   "cell_type": "markdown",
   "metadata": {},
   "source": [
    "We can see that there is a slightly larger number of children who were transported, and 20-30-year olds who were not. Maybe we can categorize people into classes based on age and see if there's any association."
   ]
  },
  {
   "cell_type": "code",
   "execution_count": 7,
   "metadata": {},
   "outputs": [],
   "source": [
    "def age_class(val):\n",
    "    \n",
    "    age_dict = {\n",
    "\t\t10 : 'child',\n",
    "        20 : 'teen',\n",
    "        40 : 'adult',\n",
    "        60: 'senior',\n",
    "        100: 'elder'\n",
    "    }\n",
    "    \n",
    "    for i in list(age_dict.keys()):\n",
    "        if val < i:\n",
    "            return age_dict[i]\n",
    "            break"
   ]
  },
  {
   "cell_type": "code",
   "execution_count": 8,
   "metadata": {},
   "outputs": [
    {
     "data": {
      "text/plain": [
       "Age_Class\n",
       "adult     4497\n",
       "senior    1605\n",
       "teen      1479\n",
       "child      679\n",
       "elder      254\n",
       "Name: count, dtype: int64"
      ]
     },
     "execution_count": 8,
     "metadata": {},
     "output_type": "execute_result"
    }
   ],
   "source": [
    "main_data['Age_Class'] = main_data['Age'].apply(age_class)\n",
    "main_data.Age_Class.value_counts()"
   ]
  },
  {
   "cell_type": "code",
   "execution_count": 9,
   "metadata": {},
   "outputs": [],
   "source": [
    "success = main_data[main_data['Transported'] == True]\n",
    "fail = main_data[main_data['Transported'] == False]"
   ]
  },
  {
   "cell_type": "code",
   "execution_count": 12,
   "metadata": {},
   "outputs": [
    {
     "name": "stdout",
     "output_type": "stream",
     "text": [
      "Transport Rate of Age Classes\n",
      "******************************\n",
      "\n",
      "(legend)\n",
      "name ----> success ----> failure\n",
      "------------------------------\n",
      "adult ----> 46.52 ----> 53.48\n",
      "\n",
      "senior ----> 50.22 ----> 49.78\n",
      "\n",
      "teen ----> 53.28 ----> 46.72\n",
      "\n",
      "child ----> 71.13 ----> 28.87\n",
      "\n",
      "elder ----> 46.85 ----> 53.15\n",
      "\n"
     ]
    }
   ],
   "source": [
    "ftr_lvls = list(main_data.Age_Class.unique())[:-1]\n",
    "\n",
    "print('Transport Rate of Age Classes')\n",
    "print('******************************')\n",
    "print('')\n",
    "print('(legend)')\n",
    "print('name ----> success ----> failure')\n",
    "print('------------------------------')\n",
    "for i in range(len(ftr_lvls)):\n",
    "    s = success[success['Age_Class'] == ftr_lvls[i]].shape[0]\n",
    "    f = fail[fail['Age_Class'] == ftr_lvls[i]].shape[0]\n",
    "    print(f'{ftr_lvls[i]} ----> {(s)/(s + f) * 100:.2f} ----> {(f)/(s + f) * 100:.2f}')\n",
    "    print('')"
   ]
  },
  {
   "cell_type": "markdown",
   "metadata": {},
   "source": [
    "It seems like besides children, most classes are equally spread apart. We'll modify our function to have two levels - `child` and `not child`"
   ]
  },
  {
   "cell_type": "code",
   "execution_count": 13,
   "metadata": {},
   "outputs": [],
   "source": [
    "def is_child(val):\n",
    "    if val < 10:\n",
    "        return True\n",
    "    else:\n",
    "        return False "
   ]
  },
  {
   "cell_type": "markdown",
   "metadata": {},
   "source": [
    "## Monetary Expenses"
   ]
  },
  {
   "cell_type": "markdown",
   "metadata": {},
   "source": [
    "Next, let's look at expenditures made on ameneties and see if they have any effect on likeliness to be successfully transported"
   ]
  },
  {
   "cell_type": "code",
   "execution_count": 14,
   "metadata": {},
   "outputs": [
    {
     "name": "stdout",
     "output_type": "stream",
     "text": [
      "<class 'pandas.core.frame.DataFrame'>\n",
      "RangeIndex: 8693 entries, 0 to 8692\n",
      "Data columns (total 15 columns):\n",
      " #   Column        Non-Null Count  Dtype  \n",
      "---  ------        --------------  -----  \n",
      " 0   PassengerId   8693 non-null   object \n",
      " 1   HomePlanet    8492 non-null   object \n",
      " 2   CryoSleep     8476 non-null   object \n",
      " 3   Cabin         8494 non-null   object \n",
      " 4   Destination   8511 non-null   object \n",
      " 5   Age           8514 non-null   float64\n",
      " 6   VIP           8490 non-null   object \n",
      " 7   RoomService   8512 non-null   float64\n",
      " 8   FoodCourt     8510 non-null   float64\n",
      " 9   ShoppingMall  8485 non-null   float64\n",
      " 10  Spa           8510 non-null   float64\n",
      " 11  VRDeck        8505 non-null   float64\n",
      " 12  Name          8493 non-null   object \n",
      " 13  Transported   8693 non-null   bool   \n",
      " 14  Age_Class     8514 non-null   object \n",
      "dtypes: bool(1), float64(6), object(8)\n",
      "memory usage: 959.4+ KB\n"
     ]
    }
   ],
   "source": [
    "main_data.info()"
   ]
  },
  {
   "cell_type": "code",
   "execution_count": 16,
   "metadata": {},
   "outputs": [
    {
     "name": "stdout",
     "output_type": "stream",
     "text": [
      "Mean total spending:\n",
      "******************************\n",
      "\n",
      "Feature : RoomService\n",
      "transported : 63.10 ------> not transported: 389.27\n",
      "\n",
      "Feature : FoodCourt\n",
      "transported : 532.69 ------> not transported: 382.62\n",
      "\n",
      "Feature : ShoppingMall\n",
      "transported : 179.83 ------> not transported: 167.57\n",
      "\n",
      "Feature : Spa\n",
      "transported : 61.68 ------> not transported: 564.38\n",
      "\n",
      "Feature : VRDeck\n",
      "transported : 69.15 ------> not transported: 543.63\n",
      "\n"
     ]
    }
   ],
   "source": [
    "numerical_features = [col for col in main_data.columns if main_data[col].dtype == 'float64']\n",
    "spending_features = [col for col in numerical_features if col != 'Age']\n",
    "\n",
    "print(\"Mean total spending:\")\n",
    "print('******************************')\n",
    "print(\"\")\n",
    "\n",
    "for feat in spending_features:\n",
    "    print(f\"Feature : {feat}\")\n",
    "    print(f'transported : {success[feat].mean():.2f} ------> not transported: {fail[feat].mean():.2f}')\n",
    "    print(\"\")"
   ]
  },
  {
   "cell_type": "markdown",
   "metadata": {},
   "source": [
    "It looks like those who weren't transported spent more money on room service, the spa, and the VR deck. There is a slight bend towards those successfully who spent more at the food court and shopping mall, but overall those not transported spent the lion's share of money. Let's see if we can say the same if we add up all the expenses into one variable. "
   ]
  },
  {
   "cell_type": "code",
   "execution_count": 17,
   "metadata": {},
   "outputs": [],
   "source": [
    "success['Exp'] = success.RoomService + success.FoodCourt + success.ShoppingMall + success.Spa + success.VRDeck\n",
    "fail['Exp'] = fail.RoomService + fail.FoodCourt + fail.ShoppingMall + fail.Spa + fail.VRDeck"
   ]
  },
  {
   "cell_type": "code",
   "execution_count": 18,
   "metadata": {},
   "outputs": [
    {
     "name": "stdout",
     "output_type": "stream",
     "text": [
      "Mean total spending for transported passengers: 925.02\n",
      "Mean total spending for non-transported passengers: 2049.82\n"
     ]
    }
   ],
   "source": [
    "print(f\"Mean total spending for transported passengers: {success['Exp'].mean():.2f}\")\n",
    "print(f\"Mean total spending for non-transported passengers: {fail['Exp'].mean():.2f}\")"
   ]
  },
  {
   "cell_type": "markdown",
   "metadata": {},
   "source": [
    "## Trip Trajectory "
   ]
  },
  {
   "cell_type": "markdown",
   "metadata": {},
   "source": [
    "If the factor behind a trip's success or not is in any way related to the destination or starting point of the trip, inspecting the different values of the `HomePlanet` and `Destination` features will bring them to light. "
   ]
  },
  {
   "cell_type": "code",
   "execution_count": 19,
   "metadata": {},
   "outputs": [
    {
     "data": {
      "image/png": "[encoded data removed]",
      "text/plain": [
       "<Figure size 1200x600 with 2 Axes>"
      ]
     },
     "metadata": {},
     "output_type": "display_data"
    }
   ],
   "source": [
    "# Define the order of categories\n",
    "planet_order = ['Earth', 'Europa', 'Mars']\n",
    "\n",
    "# Convert 'HomePlanet' column to a categorical variable with specified order\n",
    "main_data['HomePlanet'] = pd.Categorical(main_data['HomePlanet'], categories=planet_order, ordered=True)\n",
    "\n",
    "# Set up the two bar plots using countplot\n",
    "plt.figure(figsize=(12, 6))\n",
    "\n",
    "# Bar plot for Transported = True\n",
    "plt.subplot(1, 2, 1)\n",
    "sns.countplot(data=main_data[main_data['Transported'] == True], x='HomePlanet', order=planet_order, palette='pastel')\n",
    "plt.title('Transported: True')\n",
    "plt.xlabel('HomePlanet')\n",
    "plt.ylabel('Count')\n",
    "\n",
    "# Bar plot for Transported = False\n",
    "plt.subplot(1, 2, 2)\n",
    "sns.countplot(data=main_data[main_data['Transported'] == False], x='HomePlanet', order=planet_order, palette='pastel')\n",
    "plt.title('Transported: False')\n",
    "plt.xlabel('HomePlanet')\n",
    "plt.ylabel('Count')\n",
    "\n",
    "plt.tight_layout()\n",
    "plt.show()"
   ]
  },
  {
   "cell_type": "markdown",
   "metadata": {},
   "source": [
    "There isn't much to see here - we can definitely notice that the majority of passengers are from Earth and the minority from Mars. We can also surmise that those from Europa are largely successful in their trip. Let's do this with destination planets. "
   ]
  },
  {
   "cell_type": "code",
   "execution_count": 20,
   "metadata": {},
   "outputs": [
    {
     "data": {
      "image/png": "[encoded data removed]",
      "text/plain": [
       "<Figure size 1200x600 with 2 Axes>"
      ]
     },
     "metadata": {},
     "output_type": "display_data"
    }
   ],
   "source": [
    "main_data.Destination.value_counts()\n",
    "\n",
    "# Define the order of categories\n",
    "planet_order = ['TRAPPIST-1e', '55 Cancri e', 'PSO J318.5-22']\n",
    "\n",
    "# Convert 'HomePlanet' column to a categorical variable with specified order\n",
    "main_data['Destination'] = pd.Categorical(main_data['Destination'], categories=planet_order, ordered=True)\n",
    "\n",
    "# Set up the two bar plots using countplot\n",
    "plt.figure(figsize=(12, 6))\n",
    "\n",
    "# Bar plot for Transported = True\n",
    "plt.subplot(1, 2, 1)\n",
    "sns.countplot(data=main_data[main_data['Transported'] == True], x='Destination', order=planet_order, palette='pastel')\n",
    "plt.title('Transported: True')\n",
    "plt.xlabel('Destination')\n",
    "plt.ylabel('Count')\n",
    "\n",
    "# Bar plot for Transported = False\n",
    "plt.subplot(1, 2, 2)\n",
    "sns.countplot(data=main_data[main_data['Transported'] == False], x='Destination', order=planet_order, palette='pastel')\n",
    "plt.title('Transported: False')\n",
    "plt.xlabel('Destination')\n",
    "plt.ylabel('Count')\n",
    "\n",
    "plt.tight_layout()\n",
    "plt.show()"
   ]
  },
  {
   "cell_type": "markdown",
   "metadata": {},
   "source": [
    "Slightly more succeed than fail that are going to 55 Cancri e, so I think we can combine the variables into one that just dictates the trip. "
   ]
  },
  {
   "cell_type": "code",
   "execution_count": 21,
   "metadata": {},
   "outputs": [],
   "source": [
    "### Preprocess data - \"trips\" variable\n",
    "def assign_trip(hp, dest):\n",
    "    \n",
    "    trip_val = ''\n",
    "    \n",
    "    if hp == 'Earth' :\n",
    "        if dest == 'TRAPPIST-1e':\n",
    "            trip_val = 'A'\n",
    "        elif dest == '55 Cancri e':\n",
    "            trip_val = 'B'\n",
    "        else:\n",
    "            trip_val = 'C'\n",
    "    elif hp == 'Europa':\n",
    "        if dest == 'TRAPPIST-1e':\n",
    "            trip_val = 'D'\n",
    "        elif dest == '55 Cancri e':\n",
    "            trip_val = 'E'\n",
    "        else:\n",
    "            trip_val = 'F'\n",
    "    elif hp == 'Mars':\n",
    "        if dest == 'TRAPPIST-1e':\n",
    "            trip_val = 'G'\n",
    "        elif dest == '55 Cancri e':\n",
    "            trip_val = 'H'\n",
    "        else:\n",
    "            trip_val = 'I'\n",
    "            \n",
    "    return trip_val"
   ]
  },
  {
   "cell_type": "markdown",
   "metadata": {},
   "source": [
    "In conclusion, it seems we have 3 main legs to pull our decision tree questions from:\n",
    "\n",
    "            - Age \n",
    "\t\t- Expenditures \n",
    "\t\t- Trajectory \n",
    "\n",
    "To maximize variability, we'll keep the `Age` numerical variable and the `is_child` categorical variable. We'll also truncate the expenditure variables into one called `Exp`, but leave `Spa` and `VRDeck` because of their large discrepancies."
   ]
  },
  {
   "cell_type": "markdown",
   "metadata": {},
   "source": [
    "We have one last detail to look at - the `VIP` feature."
   ]
  },
  {
   "cell_type": "code",
   "execution_count": 22,
   "metadata": {},
   "outputs": [
    {
     "name": "stdout",
     "output_type": "stream",
     "text": [
      "Percent Success for VIP/non-VIP\n",
      "******************************\n",
      "\n",
      "VIP : 38.19095477386934, non-VIP : 50.63321674104451\n"
     ]
    }
   ],
   "source": [
    "print(\"Percent Success for VIP/non-VIP\")\n",
    "print('******************************')\n",
    "print(\"\")\n",
    "\n",
    "s_true = success[success['VIP'] == True].shape[0]\n",
    "f_true = fail[fail['VIP'] == True].shape[0]\n",
    "p_true = (s_true) / (s_true+f_true) * 100\n",
    "\n",
    "s_false = success[success['VIP'] == False].shape[0]\n",
    "f_false = fail[fail['VIP'] == False].shape[0]\n",
    "p_false = (s_false) / (s_false+f_false) * 100\n",
    "\n",
    "print(f\"VIP : {p_true}, non-VIP : {p_false}\")"
   ]
  },
  {
   "cell_type": "markdown",
   "metadata": {},
   "source": [
    "There is a slight turn towards VIP's having unsuccessful trips, so we'll keep that in. "
   ]
  },
  {
   "cell_type": "markdown",
   "metadata": {},
   "source": [
    "## Data Preprocessing and Feature Engineering "
   ]
  },
  {
   "cell_type": "markdown",
   "metadata": {},
   "source": [
    "Now that we've established the best feature transformations to diversify our data, we'll perform the necessary preprocessing steps. They will go as follows\n",
    "\n",
    "1. Sample the data (I'll take a fifth of the observations since there are more than 6000 in total)\n",
    "\n",
    "2. Handle nulls (I kept it simple and replaced categorical values with their mode, and age with the mean age. I made the nulls for the expense categories zero, since I'm assuming that means the passenger made no expense of that sort)\n",
    "\n",
    "3. Do the necessary feature transformations (add the `is_child` variable, the `exp` variable, and the `trips` variable)\n",
    "\n",
    "4. Select the columns we want and restructure the data "
   ]
  },
  {
   "cell_type": "markdown",
   "metadata": {},
   "source": [
    "## Sampling"
   ]
  },
  {
   "cell_type": "code",
   "execution_count": 23,
   "metadata": {},
   "outputs": [],
   "source": [
    "### pull a sample of the data\n",
    "def sample_data(data, percentage):\n",
    "    return data.sample(frac=percentage)"
   ]
  },
  {
   "cell_type": "markdown",
   "metadata": {},
   "source": [
    "## Handling Nulls"
   ]
  },
  {
   "cell_type": "code",
   "execution_count": 24,
   "metadata": {},
   "outputs": [],
   "source": [
    "def handle_nulls(data):\n",
    "     ## Handle nulls \n",
    "    med_age = data.Age.median()\n",
    "    mode_HP = data.HomePlanet.mode()[0]\n",
    "    mode_VIP = data.VIP.mode()[0]\n",
    "    mode_CS = data.CryoSleep.mode()[0]\n",
    "    mode_dest = data.Destination.mode()[0]\n",
    "    data = data.fillna({'HomePlanet' : mode_HP,\n",
    "                    'CryoSleep' : mode_CS,\n",
    "                    'Destination' : mode_dest,\n",
    "                    'VIP' : mode_VIP,\n",
    "                    'Age' : med_age,\n",
    "                    'RoomService' : 0,\n",
    "                    'FoodCourt' : 0,\n",
    "                    'ShoppingMall' : 0,\n",
    "                    'Spa' : 0,\n",
    "                    'VRDeck' : 0})\n",
    "    \n",
    "    return data"
   ]
  },
  {
   "cell_type": "markdown",
   "metadata": {},
   "source": [
    "## Feature Engineering:\n"
   ]
  },
  {
   "cell_type": "code",
   "execution_count": 25,
   "metadata": {},
   "outputs": [],
   "source": [
    "selected_columns = ['CryoSleep', 'Age', 'Child', 'VIP','Exp', 'Spa', 'VRDeck', 'Trip', 'label']\n",
    "\n",
    "def feature_engineering(data, selected_columns):\n",
    "    \n",
    "    ## Create Is_child column:\n",
    "    data['Child'] = data['Age'].apply(is_child)\n",
    "    \n",
    "    ## Create Exp column:\n",
    "    data['Exp'] = data.RoomService + data.FoodCourt + data.ShoppingMall + data.Spa + data.VRDeck\n",
    "    \n",
    "    ## Create trip column\n",
    "    for i, row in data.iterrows():\n",
    "        data.loc[i, 'Trip'] = assign_trip(row['HomePlanet'], row['Destination'])\n",
    "        \n",
    "    return data[selected_columns]"
   ]
  },
  {
   "cell_type": "code",
   "execution_count": 26,
   "metadata": {},
   "outputs": [],
   "source": [
    "selected_columns = ['CryoSleep', 'Age', 'Child', 'VIP','Exp', 'Spa', 'VRDeck', 'Trip', 'label']\n",
    "\n",
    "### Preprocess data - whole flow\n",
    "def data_preprocess(data, features=selected_columns):\n",
    "    ## Sampling\n",
    "    data = sample_data(data, percentage=0.2)\n",
    "    \n",
    "    ## rename label\n",
    "    data['label'] = data.Transported\n",
    "    \n",
    "    ## Handle nulls \n",
    "    data = handle_nulls(data)\n",
    "\n",
    "    ## Feature engineering\n",
    "    final_df = feature_engineering(data, features)\n",
    "    \n",
    "    return final_df"
   ]
  },
  {
   "cell_type": "code",
   "execution_count": 27,
   "metadata": {},
   "outputs": [],
   "source": [
    "prepped_df = data_preprocess(main_data)"
   ]
  },
  {
   "cell_type": "code",
   "execution_count": 28,
   "metadata": {},
   "outputs": [
    {
     "name": "stdout",
     "output_type": "stream",
     "text": [
      "<class 'pandas.core.frame.DataFrame'>\n",
      "Index: 1739 entries, 1681 to 6465\n",
      "Data columns (total 9 columns):\n",
      " #   Column     Non-Null Count  Dtype  \n",
      "---  ------     --------------  -----  \n",
      " 0   CryoSleep  1739 non-null   bool   \n",
      " 1   Age        1739 non-null   float64\n",
      " 2   Child      1739 non-null   bool   \n",
      " 3   VIP        1739 non-null   bool   \n",
      " 4   Exp        1739 non-null   float64\n",
      " 5   Spa        1739 non-null   float64\n",
      " 6   VRDeck     1739 non-null   float64\n",
      " 7   Trip       1739 non-null   object \n",
      " 8   label      1739 non-null   bool   \n",
      "dtypes: bool(4), float64(4), object(1)\n",
      "memory usage: 152.8+ KB\n"
     ]
    }
   ],
   "source": [
    "prepped_df.info()"
   ]
  },
  {
   "cell_type": "code",
   "execution_count": 29,
   "metadata": {},
   "outputs": [
    {
     "data": {
      "text/html": [
       "<div>\n",
       "<style scoped>\n",
       "    .dataframe tbody tr th:only-of-type {\n",
       "        vertical-align: middle;\n",
       "    }\n",
       "\n",
       "    .dataframe tbody tr th {\n",
       "        vertical-align: top;\n",
       "    }\n",
       "\n",
       "    .dataframe thead th {\n",
       "        text-align: right;\n",
       "    }\n",
       "</style>\n",
       "<table border=\"1\" class=\"dataframe\">\n",
       "  <thead>\n",
       "    <tr style=\"text-align: right;\">\n",
       "      <th></th>\n",
       "      <th>CryoSleep</th>\n",
       "      <th>Age</th>\n",
       "      <th>Child</th>\n",
       "      <th>VIP</th>\n",
       "      <th>Exp</th>\n",
       "      <th>Spa</th>\n",
       "      <th>VRDeck</th>\n",
       "      <th>Trip</th>\n",
       "      <th>label</th>\n",
       "    </tr>\n",
       "  </thead>\n",
       "  <tbody>\n",
       "    <tr>\n",
       "      <th>1681</th>\n",
       "      <td>False</td>\n",
       "      <td>40.0</td>\n",
       "      <td>False</td>\n",
       "      <td>False</td>\n",
       "      <td>804.0</td>\n",
       "      <td>73.0</td>\n",
       "      <td>0.0</td>\n",
       "      <td>A</td>\n",
       "      <td>False</td>\n",
       "    </tr>\n",
       "    <tr>\n",
       "      <th>1455</th>\n",
       "      <td>False</td>\n",
       "      <td>32.0</td>\n",
       "      <td>False</td>\n",
       "      <td>False</td>\n",
       "      <td>4025.0</td>\n",
       "      <td>1440.0</td>\n",
       "      <td>2114.0</td>\n",
       "      <td>D</td>\n",
       "      <td>False</td>\n",
       "    </tr>\n",
       "    <tr>\n",
       "      <th>1353</th>\n",
       "      <td>True</td>\n",
       "      <td>4.0</td>\n",
       "      <td>True</td>\n",
       "      <td>False</td>\n",
       "      <td>0.0</td>\n",
       "      <td>0.0</td>\n",
       "      <td>0.0</td>\n",
       "      <td>A</td>\n",
       "      <td>True</td>\n",
       "    </tr>\n",
       "    <tr>\n",
       "      <th>833</th>\n",
       "      <td>False</td>\n",
       "      <td>16.0</td>\n",
       "      <td>False</td>\n",
       "      <td>False</td>\n",
       "      <td>519.0</td>\n",
       "      <td>9.0</td>\n",
       "      <td>0.0</td>\n",
       "      <td>G</td>\n",
       "      <td>False</td>\n",
       "    </tr>\n",
       "    <tr>\n",
       "      <th>458</th>\n",
       "      <td>True</td>\n",
       "      <td>27.0</td>\n",
       "      <td>False</td>\n",
       "      <td>False</td>\n",
       "      <td>0.0</td>\n",
       "      <td>0.0</td>\n",
       "      <td>0.0</td>\n",
       "      <td>H</td>\n",
       "      <td>True</td>\n",
       "    </tr>\n",
       "  </tbody>\n",
       "</table>\n",
       "</div>"
      ],
      "text/plain": [
       "      CryoSleep   Age  Child    VIP     Exp     Spa  VRDeck Trip  label\n",
       "1681      False  40.0  False  False   804.0    73.0     0.0    A  False\n",
       "1455      False  32.0  False  False  4025.0  1440.0  2114.0    D  False\n",
       "1353       True   4.0   True  False     0.0     0.0     0.0    A   True\n",
       "833       False  16.0  False  False   519.0     9.0     0.0    G  False\n",
       "458        True  27.0  False  False     0.0     0.0     0.0    H   True"
      ]
     },
     "execution_count": 29,
     "metadata": {},
     "output_type": "execute_result"
    }
   ],
   "source": [
    "prepped_df.head()"
   ]
  },
  {
   "cell_type": "markdown",
   "metadata": {},
   "source": [
    "We have our prepped dataframe ready to go! Let's get started on the logic for the decision trees. "
   ]
  },
  {
   "cell_type": "markdown",
   "metadata": {},
   "source": [
    "# 5. Decision Tree Algorithm"
   ]
  },
  {
   "cell_type": "markdown",
   "metadata": {},
   "source": [
    "## Entropy and Information Gain "
   ]
  },
  {
   "cell_type": "markdown",
   "metadata": {},
   "source": [
    "We begin by getting the most overt mathematics out of the way. We'll need a way to calculate the entropies of a dataset, and the information gain of the pre-split and post-split versions for when we decide what splits to make. \n",
    "\n",
    "For entropy we'll have to do the following\n",
    "         \n",
    "\t\t - get the probabilities of Transported being True and False\n",
    "\t\t - multiply each by log_2 * its probabilities\n",
    "\t\t - add them together \n",
    "\n",
    "For information gain, we'll do the following\n",
    "         \n",
    "\t\t - Get the entropy value before, and the entropy values for the two datasets after the split\n",
    "\t\t - multiply the post-split datasets' entropy values by their proportion in the full dataset\n",
    "\t\t - Add them all together as per the formula "
   ]
  },
  {
   "cell_type": "markdown",
   "metadata": {},
   "source": [
    "This process is detailed below in code. "
   ]
  },
  {
   "cell_type": "code",
   "execution_count": 30,
   "metadata": {},
   "outputs": [],
   "source": [
    "### Calculate Entropy\n",
    "def calculate_entropy(data):\n",
    "    \n",
    "    label_column = data[:, -1]\n",
    "    _, counts = np.unique(label_column, return_counts=True)\n",
    "\n",
    "    probabilities = counts / counts.sum()\n",
    "    entropy = sum(probabilities * -np.log2(probabilities))\n",
    "     \n",
    "    return entropy"
   ]
  },
  {
   "cell_type": "code",
   "execution_count": 31,
   "metadata": {},
   "outputs": [],
   "source": [
    "### Lowest Overall Entropy\n",
    "def calculate_overall_entropy(data_below, data_above):\n",
    "    \n",
    "    n = len(data_below) + len(data_above)\n",
    "    p_data_below = len(data_below) / n\n",
    "    p_data_above = len(data_above) / n\n",
    "\n",
    "    overall_entropy =  (p_data_below * calculate_entropy(data_below) \n",
    "                      + p_data_above * calculate_entropy(data_above))\n",
    "    \n",
    "    return overall_entropy"
   ]
  },
  {
   "cell_type": "code",
   "execution_count": 32,
   "metadata": {},
   "outputs": [],
   "source": [
    "### information gain\n",
    "def calculate_info_gain(data_unsplit, data_below, data_above):\n",
    "    \n",
    "    unsplit_entropy = calculate_entropy(data_unsplit)\n",
    "    overall = calculate_overall_entropy(data_below, data_above)\n",
    "    \n",
    "    return unsplit_entropy - overall"
   ]
  },
  {
   "cell_type": "markdown",
   "metadata": {},
   "source": [
    "## Recursive Aspect - Building the Tree"
   ]
  },
  {
   "cell_type": "markdown",
   "metadata": {},
   "source": [
    "### Structure"
   ]
  },
  {
   "cell_type": "markdown",
   "metadata": {},
   "source": [
    "1. We start with the whole dataset and conduct our initial split, finding the best possible split by trying out different ones and finding the one that maximizes information gain\n",
    "\n",
    "2. We will split the data, and check if any of the nodes created are pure \n",
    "      \n",
    "\t  a. If they are, we will terminate that node there and classify the data within as either a `True` node or `False` node\n",
    "\n",
    "\t  b. If not, we will ask another question and split the data again\n",
    "\n",
    "3. We should return with a fully developed tree that ends at pure nodes. "
   ]
  },
  {
   "cell_type": "markdown",
   "metadata": {},
   "source": [
    "### Terminal Node"
   ]
  },
  {
   "cell_type": "markdown",
   "metadata": {},
   "source": [
    "Let's start with devising a way to check the purity of our node. The logic here is that all members of the node must have the same value for their target column. The following code determines whether a node is pure. "
   ]
  },
  {
   "cell_type": "code",
   "execution_count": 33,
   "metadata": {},
   "outputs": [],
   "source": [
    "### Data Purity\n",
    "def check_purity(data):\n",
    "    \n",
    "    label_column = data[:, -1]\n",
    "    unique_classes = np.unique(label_column) ### one value if they're all the same \n",
    "\n",
    "    if len(unique_classes) == 1:\n",
    "        return True\n",
    "    else:\n",
    "        return False"
   ]
  },
  {
   "cell_type": "markdown",
   "metadata": {},
   "source": [
    "If we find a pure node, the following code classifies the node as one of the levels of the target. "
   ]
  },
  {
   "cell_type": "code",
   "execution_count": 34,
   "metadata": {},
   "outputs": [],
   "source": [
    "### Classification\n",
    "def classify_data(data):\n",
    "    \n",
    "    label_column = data[:, -1]\n",
    "    unique_classes, counts_unique_classes = np.unique(label_column, return_counts=True)\n",
    "\n",
    "    index = counts_unique_classes.argmax()\n",
    "    classification = unique_classes[index]\n",
    "    \n",
    "    return classification"
   ]
  },
  {
   "cell_type": "markdown",
   "metadata": {},
   "source": [
    "## Making the Best Split "
   ]
  },
  {
   "cell_type": "markdown",
   "metadata": {},
   "source": [
    "There needs to be a small caveat here. **Random Forest** requires feature bagging, discussed earlier, to vary the features from which it constructs trees. Therefore I decided to put this functionality directly in the tree-making architecture. Below is a function called `feature_scramble` which does just that and returns a list of features. I will call on `feature_scramble` and use that list of features to determine my best splits. Notice `max_features` is a variable I can set. "
   ]
  },
  {
   "cell_type": "markdown",
   "metadata": {},
   "source": [
    "### Splitting the Node "
   ]
  },
  {
   "cell_type": "code",
   "execution_count": 35,
   "metadata": {},
   "outputs": [],
   "source": [
    "### Feature sampling \n",
    "def feature_scramble(data, max_features):\n",
    "    \n",
    "    feature_ls = list()\n",
    "    num_features = list(data.shape)[1] - 2\n",
    "    \n",
    "    while len(feature_ls) <= max_features:\n",
    "        feature_idx = random.sample(range(num_features), 1)\n",
    "        if feature_idx not in feature_ls:\n",
    "            feature_ls.extend(feature_idx)\n",
    "    \n",
    "    unique = []\n",
    "    \n",
    "    for val in feature_ls:\n",
    "        if val not in unique:\n",
    "            unique.append(val)\n",
    "    \n",
    "    return unique\n"
   ]
  },
  {
   "cell_type": "markdown",
   "metadata": {},
   "source": [
    "My logic behind getting all potential splits highlights the versatility of decision trees:\n",
    "\n",
    "         - For categorical columns, I can just split a node at each value of the feature (ie. 'Trip' == A ---> True/False)\n",
    "         - For numerical columns, I can split the features at the numerical points between the instances. If I have a point at 100, and another at 102, I can split the feature at 101 to get values for either node"
   ]
  },
  {
   "cell_type": "markdown",
   "metadata": {},
   "source": [
    "After getting back a list of all potential splits I can use I will then iterate through my dataset testing these out, and getting back information gain scores. That way I can pick the best one at every iteration. "
   ]
  },
  {
   "cell_type": "markdown",
   "metadata": {},
   "source": [
    "The following shows how I get all potential splits. I scramble the features to give me a unique feature list to pull splits from, and return the unique values from said features."
   ]
  },
  {
   "cell_type": "code",
   "execution_count": 36,
   "metadata": {},
   "outputs": [],
   "source": [
    "### Potential Splits\n",
    "def get_potential_splits(data, max_features):\n",
    "    \n",
    "    \n",
    "    potential_splits = {}\n",
    "    target_features = feature_scramble(data, max_features=max_features)\n",
    "    \n",
    "    for column_index in target_features:          # excluding the last column which is the label\n",
    "        values = data[:, column_index]\n",
    "        unique_values = np.unique(values)\n",
    "        \n",
    "        potential_splits[column_index] = unique_values\n",
    "    \n",
    "    return potential_splits"
   ]
  },
  {
   "cell_type": "markdown",
   "metadata": {},
   "source": [
    "Since the way I make splits is different for different types of features (for numerical features, I'll find values in between points, and for categorical features, each split will be a unique value of that feature), I will need a way to differentiate categorical and numerical features. I do so in a list."
   ]
  },
  {
   "cell_type": "code",
   "execution_count": 37,
   "metadata": {},
   "outputs": [],
   "source": [
    "### Determine Feature Type\n",
    "def determine_type_of_feature(df):\n",
    "    \n",
    "    feature_types = []\n",
    "    n_unique_values_treshold = 15\n",
    "    for feature in df.columns:\n",
    "        if feature != \"label\":\n",
    "            unique_values = df[feature].unique()\n",
    "            example_value = unique_values[0]\n",
    "\n",
    "            if (isinstance(example_value, str)) or (len(unique_values) <= n_unique_values_treshold):\n",
    "                feature_types.append(\"categorical\")\n",
    "            else:\n",
    "                feature_types.append(\"continuous\")\n",
    "    \n",
    "    return feature_types"
   ]
  },
  {
   "cell_type": "markdown",
   "metadata": {},
   "source": [
    "The following function takes information about a split column, a value to split on, and returns the two resulting dataframes. This is where I execute the actual split - note that if the data type is continuous, I base my split condition on a range of values, whereas for categorical features, I test equivalency to its discrete options. "
   ]
  },
  {
   "cell_type": "code",
   "execution_count": 40,
   "metadata": {},
   "outputs": [],
   "source": [
    "### Split Data\n",
    "def split_data(data, split_column, split_value):\n",
    "    \n",
    "    split_column_values = data[:, split_column]\n",
    "\n",
    "    type_of_feature = FEATURE_TYPES[split_column]\n",
    "    if type_of_feature == \"continuous\":\n",
    "        data_below = data[split_column_values <= split_value]\n",
    "        data_above = data[split_column_values >  split_value]\n",
    "    \n",
    "    # feature is categorical   \n",
    "    else:\n",
    "        data_below = data[split_column_values == split_value]\n",
    "        data_above = data[split_column_values != split_value]\n",
    "    \n",
    "    return data_below, data_above"
   ]
  },
  {
   "cell_type": "markdown",
   "metadata": {},
   "source": [
    "The following function tests out all potential splits and finds the one with the highest overall information gain. "
   ]
  },
  {
   "cell_type": "markdown",
   "metadata": {},
   "source": [
    "I execute each potential split for each feature, and find the resultant information gain from the split. Subsequently, I return the split with the best information gain. "
   ]
  },
  {
   "cell_type": "code",
   "execution_count": 41,
   "metadata": {},
   "outputs": [],
   "source": [
    "### Determine Best Split\n",
    "def determine_best_split(data, potential_splits):\n",
    "    \n",
    "    best_split_column = None\n",
    "    best_split_value = None\n",
    "    \n",
    "    overall_IG = -999\n",
    "    for column_index in potential_splits:\n",
    "        for value in potential_splits[column_index]:\n",
    "            data_below, data_above = split_data(data, split_column=column_index, split_value=value)\n",
    "            current_IG = calculate_info_gain(data, data_below, data_above)\n",
    "\n",
    "            if current_IG >= overall_IG:\n",
    "                overall_IG = current_IG\n",
    "                best_split_column = column_index\n",
    "                best_split_value = value\n",
    "    \n",
    "    return best_split_column, best_split_value"
   ]
  },
  {
   "cell_type": "markdown",
   "metadata": {},
   "source": [
    "### Overall Tree Structure "
   ]
  },
  {
   "cell_type": "markdown",
   "metadata": {},
   "source": [
    "Now that we have a mechanism to pick our next node, or terminate a path at a pure node, we can develop the rest of our tree architecture. \n",
    "\n",
    "We start by creating some global constants to help us with the split (instantiated with a counter so it doesn't keep executing), and begin by checking for our base case (a pure node). If the data in question is not a pure node, we proceed to:\n",
    "\n",
    "1. Get potential splits\n",
    "\n",
    "2. Find the best one\n",
    "\n",
    "3. Split the data accordingly \n",
    "\n",
    "4. Run the algorithm again for each subset.\n",
    "\n",
    "We do this until every recursive instance of the function terminates at a pure node, or until we reach a maximum number of iterations. Note that we can control the maximum depth (number of trees). I also set a value for minimum samples so that we can terminate a node if it has no data or only one instance, because that gives us no information. "
   ]
  },
  {
   "cell_type": "code",
   "execution_count": 42,
   "metadata": {},
   "outputs": [],
   "source": [
    "### Decision Tree\n",
    "def decision_tree_algorithm(df, counter, min_samples, max_depth, max_features): \n",
    "    \n",
    "    # data preparations\n",
    "    if counter == 0:\n",
    "        global COLUMN_HEADERS, FEATURE_TYPES\n",
    "        COLUMN_HEADERS = df.columns\n",
    "        FEATURE_TYPES = determine_type_of_feature(df)\n",
    "        data = df.values\n",
    "    else:\n",
    "        data = df           \n",
    "    \n",
    "    \n",
    "    # base cases\n",
    "    if (check_purity(data)) or (len(data) < min_samples) or (counter == max_depth):\n",
    "        classification = classify_data(data)\n",
    "        \n",
    "        return classification\n",
    "\n",
    "    \n",
    "    # recursive part\n",
    "    else:    \n",
    "        counter += 1\n",
    "\n",
    "        # helper functions \n",
    "        potential_splits = get_potential_splits(data, max_features)\n",
    "        split_column, split_value = determine_best_split(data, potential_splits)\n",
    "        data_below, data_above = split_data(data, split_column, split_value)\n",
    "        \n",
    "        # check for empty data\n",
    "        if len(data_below) == 0 or len(data_above) == 0:\n",
    "            classification = classify_data(data)\n",
    "            return classification\n",
    "        \n",
    "        # determine question\n",
    "        feature_name = COLUMN_HEADERS[split_column]\n",
    "        type_of_feature = FEATURE_TYPES[split_column]\n",
    "        if type_of_feature == \"continuous\":\n",
    "            question = \"{} <= {}\".format(feature_name, split_value)\n",
    "            \n",
    "        # feature is categorical\n",
    "        else:\n",
    "            question = \"{} = {}\".format(feature_name, split_value)\n",
    "        \n",
    "        # instantiate sub-tree\n",
    "        sub_tree = {question: []}\n",
    "        \n",
    "        # find answers (recursion)\n",
    "        yes_answer = decision_tree_algorithm(data_below, counter, min_samples, max_depth, max_features)\n",
    "        no_answer = decision_tree_algorithm(data_above, counter, min_samples, max_depth, max_features)\n",
    "        \n",
    "        # If the answers are the same, then there is no point in asking the qestion.\n",
    "        # This could happen when the data is classified even though it is not pure\n",
    "        # yet (min_samples or max_depth base case).\n",
    "        if yes_answer == no_answer:\n",
    "            sub_tree = yes_answer\n",
    "        else:\n",
    "            sub_tree[question].append(yes_answer)\n",
    "            sub_tree[question].append(no_answer)\n",
    "        \n",
    "        return sub_tree"
   ]
  },
  {
   "cell_type": "markdown",
   "metadata": {},
   "source": [
    "### Example Execution - Train test split "
   ]
  },
  {
   "cell_type": "markdown",
   "metadata": {},
   "source": [
    "Let's see some of this in action. I'm creating a train test split function below (based on a given proportion, divides the data into a set to train on and a set to predict on) for the sake of demonstrating the prediction performance of one tree, but we will implement another kind of model evaluation tactic, **cross validation**, further below. "
   ]
  },
  {
   "cell_type": "code",
   "execution_count": 43,
   "metadata": {},
   "outputs": [],
   "source": [
    "### Train Test Split\n",
    "def train_test_split(df, test_size):\n",
    "    \n",
    "    if isinstance(test_size, float):\n",
    "        test_size = round(test_size * len(df))\n",
    "\n",
    "    indices = df.index.tolist()\n",
    "    test_indices = random.sample(population=indices, k=test_size)\n",
    "\n",
    "    test_df = df.loc[test_indices]\n",
    "    train_df = df.drop(test_indices)\n",
    "    \n",
    "    return train_df, test_df\n"
   ]
  },
  {
   "cell_type": "code",
   "execution_count": 44,
   "metadata": {},
   "outputs": [],
   "source": [
    "train_df, test_df = train_test_split(prepped_df, test_size=0.2)"
   ]
  },
  {
   "cell_type": "code",
   "execution_count": 45,
   "metadata": {},
   "outputs": [
    {
     "name": "stdout",
     "output_type": "stream",
     "text": [
      "train shape: (1391, 9)\n",
      "test shape: (348, 9)\n"
     ]
    }
   ],
   "source": [
    "print(f\"train shape: {train_df.shape}\")\n",
    "print(f\"test shape: {test_df.shape}\")"
   ]
  },
  {
   "cell_type": "code",
   "execution_count": 46,
   "metadata": {},
   "outputs": [],
   "source": [
    "tree = decision_tree_algorithm(train_df, counter=0, min_samples=2, max_depth=5, max_features=5)"
   ]
  },
  {
   "cell_type": "code",
   "execution_count": 47,
   "metadata": {},
   "outputs": [
    {
     "name": "stdout",
     "output_type": "stream",
     "text": [
      "{'Exp <= 0.0': [True,\n",
      "                {'Exp <= 2414.0': [{'Spa <= 480.0': [False,\n",
      "                                                     {'Exp <= 889.0': [False,\n",
      "                                                                       {'Exp <= 891.0': [True,\n",
      "                                                                                         False]}]}]},\n",
      "                                   {'Spa <= 1301.0': [{'Exp <= 4393.0': [{'VRDeck <= 1057.0': [True,\n",
      "                                                                                               False]},\n",
      "                                                                         {'VRDeck <= 2260.0': [True,\n",
      "                                                                                               False]}]},\n",
      "                                                      False]}]}]}\n"
     ]
    }
   ],
   "source": [
    "pprint(tree)"
   ]
  },
  {
   "cell_type": "markdown",
   "metadata": {},
   "source": [
    "Further below, we create a way to calculate the accuracy of a trained tree on itself. For now, to demonstrate this example, I'll call it from my personal helper functions."
   ]
  },
  {
   "cell_type": "code",
   "execution_count": 48,
   "metadata": {},
   "outputs": [],
   "source": [
    "from helper_functions import *\n",
    "\n",
    "acc = calculate_accuracy(train_df, tree)"
   ]
  },
  {
   "cell_type": "code",
   "execution_count": 49,
   "metadata": {},
   "outputs": [
    {
     "name": "stdout",
     "output_type": "stream",
     "text": [
      "accuracy on training set: 77.21 %\n"
     ]
    }
   ],
   "source": [
    "print(f\"accuracy on training set: {acc*100:.2f} %\")"
   ]
  },
  {
   "cell_type": "markdown",
   "metadata": {},
   "source": [
    "Let's see what happens if we increase the maximum number of features."
   ]
  },
  {
   "cell_type": "code",
   "execution_count": 50,
   "metadata": {},
   "outputs": [],
   "source": [
    "tree2 = decision_tree_algorithm(train_df, counter=0, min_samples=2, max_depth=5, max_features=8)\n",
    "acc2 = calculate_accuracy(train_df, tree2)"
   ]
  },
  {
   "cell_type": "code",
   "execution_count": 51,
   "metadata": {},
   "outputs": [
    {
     "name": "stdout",
     "output_type": "stream",
     "text": [
      "{'Exp <= 10154.0': [{'Spa <= 480.0': [{'CryoSleep = True': [True,\n",
      "                                                            {'label = True': [{'Age <= 12.0': [True,\n",
      "                                                                                               False]},\n",
      "                                                                              {'Child = True': [False,\n",
      "                                                                                                True]}]}]},\n",
      "                                      {'label = True': [{'Exp <= 2542.0': [False,\n",
      "                                                                           {'Spa <= 1301.0': [True,\n",
      "                                                                                              False]}]},\n",
      "                                                        {'Exp <= 2414.0': [True,\n",
      "                                                                           {'Spa <= 1018.0': [False,\n",
      "                                                                                              True]}]}]}]},\n",
      "                    True]}\n"
     ]
    }
   ],
   "source": [
    "pprint(tree2)"
   ]
  },
  {
   "cell_type": "code",
   "execution_count": 52,
   "metadata": {},
   "outputs": [
    {
     "name": "stdout",
     "output_type": "stream",
     "text": [
      "accuracy on training set: 35.37 %\n"
     ]
    }
   ],
   "source": [
    "print(f\"accuracy on training set: {acc2*100:.2f} %\")"
   ]
  },
  {
   "cell_type": "markdown",
   "metadata": {},
   "source": [
    "This is one of the pitfalls of feature bagging that random forest alleviates through strong numbers. A lot of feature combinations may be unpalatable for decision trees but they are eschewed in favor of the more compatible trees. "
   ]
  },
  {
   "cell_type": "markdown",
   "metadata": {},
   "source": [
    "# 6. Random Forest "
   ]
  },
  {
   "cell_type": "markdown",
   "metadata": {},
   "source": [
    "One benefit of bootstrapping lies in a curious mathematical tendency, the mathematical scope of which is beyond this notebook. There is a great StackOverflow post that explains and demonstrates the phenomenon:\n",
    "\n",
    "https://stats.stackexchange.com/questions/88980/why-on-average-does-each-bootstrap-sample-contain-roughly-two-thirds-of-observat\n",
    "\n",
    "Essentially, bootstrapping reliably results in about 1/3 of the data being left out. We can train our trees on the bootstrapped subset, and test their accuracy on the remaining 1/3. This is often called the *out-of-bag* sample. "
   ]
  },
  {
   "cell_type": "markdown",
   "metadata": {},
   "source": [
    "## Bootstrapping"
   ]
  },
  {
   "cell_type": "markdown",
   "metadata": {},
   "source": [
    "In the following code I draw a bootstrap by randomly selecting (with replacement) a list of numbers in the range of the indices, grabbing the corresponding indices and placing them into a new dataframe.\n",
    "\n",
    "I create the out-of-bag sample by simply selecting the indices which haven't been included in the bootstrap. "
   ]
  },
  {
   "cell_type": "code",
   "execution_count": 53,
   "metadata": {},
   "outputs": [],
   "source": [
    "### Draw bootstrap\n",
    "def draw_bootstrap(data):\n",
    "    bootstrap_indices = list(np.random.choice(range(len(data)), len(data), replace = True))\n",
    "    oob_indices = [i for i in range(len(data)) if i not in bootstrap_indices]\n",
    "    \n",
    "    data_bootstrap = data.iloc[bootstrap_indices]\n",
    "    \n",
    "    data_oob = data.iloc[oob_indices]\n",
    "    \n",
    "    return data_bootstrap, data_oob\n",
    "\n"
   ]
  },
  {
   "cell_type": "markdown",
   "metadata": {},
   "source": [
    "## Using the Trees to Predict "
   ]
  },
  {
   "cell_type": "markdown",
   "metadata": {},
   "source": [
    "Before we go ahead, we need a way to call the trees to predict, and judge their outcome. This is what we skipped over when we saw `calculate_accuracy()` above. "
   ]
  },
  {
   "cell_type": "markdown",
   "metadata": {},
   "source": [
    "The following code classifies a single instance by taking it through a tree. Notice that this is also recursive. We break down the instance feature by feature until we reach a terminal node to predict on. Also noteworthy is the consideration for categorical features. Remember that you're looking for a range in continuous variables, but exact equivalency in categorical variables. "
   ]
  },
  {
   "cell_type": "code",
   "execution_count": 54,
   "metadata": {},
   "outputs": [],
   "source": [
    "### Classify an Example\n",
    "def classify_example(example, tree):\n",
    "    question = list(tree.keys())[0]\n",
    "    # print(question)\n",
    "    feature_name, comparison_operator, value = question.split(\" \")\n",
    "\n",
    "    # ask question\n",
    "    if comparison_operator == \"<=\":  # feature is continuous\n",
    "        if example[feature_name] <= float(value):\n",
    "            answer = tree[question][0]\n",
    "        else:\n",
    "            answer = tree[question][1]\n",
    "    \n",
    "    # feature is categorical\n",
    "    else:\n",
    "        if str(example[feature_name]) == value:\n",
    "            answer = tree[question][0]\n",
    "        else:\n",
    "            answer = tree[question][1]\n",
    "\n",
    "    # base case\n",
    "    if not isinstance(answer, dict):\n",
    "        return answer\n",
    "    \n",
    "    # recursive part\n",
    "    else:\n",
    "        residual_tree = answer\n",
    "        return classify_example(example, residual_tree)\n",
    "    "
   ]
  },
  {
   "cell_type": "markdown",
   "metadata": {},
   "source": [
    "The following code uses the tree to predict all instances in the dataset, and appends its prediction as a column. After doing so, it finds the mean similarity of that column, and returns it as the accuracy score."
   ]
  },
  {
   "cell_type": "code",
   "execution_count": 55,
   "metadata": {},
   "outputs": [],
   "source": [
    "### Calculate Model Accuracy\n",
    "def calculate_accuracy(df, tree):\n",
    "    \n",
    "    df[\"classification\"] = df.apply(classify_example, axis=1, args=(tree,))\n",
    "    df[\"classification_correct\"] = df[\"classification\"] == df[\"label\"]\n",
    "    \n",
    "    accuracy = df[\"classification_correct\"].mean()\n",
    "    \n",
    "    return accuracy"
   ]
  },
  {
   "cell_type": "markdown",
   "metadata": {},
   "source": [
    "## Random Forest Architecture "
   ]
  },
  {
   "cell_type": "markdown",
   "metadata": {},
   "source": [
    "The following is the training algorithm for the random forest. \n",
    "\n",
    "We create a list to store our trees.\n",
    "\n",
    "Then, for each estimator, we draw our **bootstrap**, and run our **decision tree** algorithm. Remember, we execute **feature bagging** within the algorithm, during the process to determine the best split. "
   ]
  },
  {
   "cell_type": "code",
   "execution_count": 56,
   "metadata": {},
   "outputs": [],
   "source": [
    "### Random Forest \n",
    "def random_forest(data, n_estimators, max_features=5, max_depth=5, min_samples=2):\n",
    "    \n",
    "    tree_ls = list()\n",
    "    # oob_ls = list()\n",
    "    \n",
    "    for i in range(n_estimators):\n",
    "        data_boot, data_oob = draw_bootstrap(data)\n",
    "        tree = decision_tree_algorithm(data_boot, counter=0, min_samples=min_samples, max_depth=max_depth, max_features=max_features)\n",
    "        tree_ls.append(tree)\n",
    "    \n",
    "    return tree_ls"
   ]
  },
  {
   "cell_type": "markdown",
   "metadata": {},
   "source": [
    "# 7. Model Evaluation and Hyperparameter Tuning "
   ]
  },
  {
   "cell_type": "markdown",
   "metadata": {},
   "source": [
    "To evaluate our model and tune hyperparameters, we'll implement cross-validation to increase the amount of randomness within the whole process. Cross-validation essentially slices the dataframe into 2 randomly determined subsets (a large *training* set and a smaller *test* set) a number of times, called *folds*, trains a model and evaluates it on the training and test set respectively, and records the result. It's an elegant way to get a more holistic view of your model's true performance. "
   ]
  },
  {
   "cell_type": "markdown",
   "metadata": {},
   "source": [
    "Before we do so, we have to establish some logic that allows the random forest to predict on a dataset. "
   ]
  },
  {
   "cell_type": "markdown",
   "metadata": {},
   "source": [
    "We basically have each tree in the list of random forest trees make a prediction and tally up the votes. "
   ]
  },
  {
   "cell_type": "markdown",
   "metadata": {},
   "source": [
    "The following code gets votes for predictions for a single row and returns the most common (the majority vote). "
   ]
  },
  {
   "cell_type": "markdown",
   "metadata": {},
   "source": [
    "## Generating a Prediction "
   ]
  },
  {
   "cell_type": "code",
   "execution_count": 57,
   "metadata": {},
   "outputs": [],
   "source": [
    "### Predict a single instance \n",
    "def predict(val, trees):\n",
    "    \n",
    "    votes = []\n",
    "    \n",
    "    for tree in trees:\n",
    "        votes.append(classify_example(val, tree))\n",
    "    \n",
    "    counter = Counter(votes)\n",
    "    \n",
    "    return counter.most_common(1)[0][0]"
   ]
  },
  {
   "cell_type": "markdown",
   "metadata": {},
   "source": [
    "The following code predicts an entire test set. "
   ]
  },
  {
   "cell_type": "code",
   "execution_count": 58,
   "metadata": {},
   "outputs": [],
   "source": [
    "### Create prediction series \n",
    "def prediction(data, trees):\n",
    "    \n",
    "    predictions = []\n",
    "    \n",
    "    for i in range(data.shape[0]):\n",
    "        result = predict(data.iloc[i], trees)\n",
    "        predictions.append(result)\n",
    "    \n",
    "    return predictions"
   ]
  },
  {
   "cell_type": "markdown",
   "metadata": {},
   "source": [
    "The following code evaluates the accuracy of the random forest's predictions, much like `calculate_accuracy()` did for our tree. "
   ]
  },
  {
   "cell_type": "code",
   "execution_count": 59,
   "metadata": {},
   "outputs": [],
   "source": [
    "### Evaluate accuracy of random forest \n",
    "def evaluate(data, predictions, label='label'):\n",
    "    data['prediction'] = predictions \n",
    "    data['correct'] = data['prediction'] == data[label]\n",
    "    return data['correct'].mean()"
   ]
  },
  {
   "cell_type": "markdown",
   "metadata": {},
   "source": [
    "The following puts it all together. "
   ]
  },
  {
   "cell_type": "code",
   "execution_count": 60,
   "metadata": {},
   "outputs": [],
   "source": [
    "### Evaluate RF model with data \n",
    "def model_testing(data, trees):\n",
    "    predictions = prediction(data, trees)\n",
    "    acc = evaluate(data, predictions)\n",
    "    \n",
    "    return acc"
   ]
  },
  {
   "cell_type": "markdown",
   "metadata": {},
   "source": [
    "Let's see what it looks like so far:"
   ]
  },
  {
   "cell_type": "code",
   "execution_count": 61,
   "metadata": {},
   "outputs": [],
   "source": [
    "trees_ls = random_forest(train_df, n_estimators=10, max_features=5, max_depth=5, min_samples=2)\n",
    "acc_rf = model_testing(train_df, trees_ls)"
   ]
  },
  {
   "cell_type": "code",
   "execution_count": 62,
   "metadata": {},
   "outputs": [
    {
     "data": {
      "text/plain": [
       "0.7721063982746226"
      ]
     },
     "execution_count": 62,
     "metadata": {},
     "output_type": "execute_result"
    }
   ],
   "source": [
    "acc"
   ]
  },
  {
   "cell_type": "markdown",
   "metadata": {},
   "source": [
    "## Cross-Validation "
   ]
  },
  {
   "cell_type": "markdown",
   "metadata": {},
   "source": [
    "Cross validation ins an invaluable tool to glean a more reliable understanding of a model's accuracy. As mentioned above, the basic logic of cross validation takes a dataset and splits it into a given number of unique training and testing pairs, the number specified by the user. Conventionally cross validation is performed with 5-10 iterations, called *folds*. This allows one dataset to transform into five different instances of training and test sets, and gives the model five separate attempts at prediction. "
   ]
  },
  {
   "cell_type": "markdown",
   "metadata": {},
   "source": [
    "Now we implement our cross-validation logic. We'll get the indices for the training and test for each fold in a list, then use the list to get the instances from the corresponding positions "
   ]
  },
  {
   "cell_type": "markdown",
   "metadata": {},
   "source": [
    "The following code returns the train and test indices for each fold as a tuple of lists. Essentially, for **k** (the hyperparameter number of instances) folds, I divide the entire length of my instances by that number.\n",
    "\n",
    "Assume that I have a dataset $D$, with 1000 entries, and I would like to perform a $5$-fold cross-validation on a model using this data. \n",
    "\n",
    "The resultant datasets, \n",
    "\n",
    "which we will call $D_1, D_2, D_3, D_4$, and $D_5$, \n",
    "\n",
    "all have 200 entries ($1000/5 = 200$).\n",
    "\n",
    "Then, for each of the $k = 5$ iterations, we will make one subset the test set, and combine the other 4 into training sets. Ultimately we have five training sets as follows:\n",
    "\n",
    "1. \n",
    "\n",
    "$D_\\text{train} = D_1, D_2, D_3, D_4$\n",
    "\n",
    "$D_\\text{test} = D_5$\n",
    "\n",
    "2. \n",
    "\n",
    "$D_\\text{train} = D_2, D_3, D_4, D_5$\n",
    "\n",
    "$D_\\text{test} = D_1$\n",
    "\n",
    "3. \n",
    "\n",
    "$D_\\text{train} = D_5, D_1, D_3, D_4$\n",
    "\n",
    "$D_\\text{test} = D_2$\n",
    "\n",
    "4. \n",
    "\n",
    "$D_\\text{train} = D_5, D_1, D_2, D_4$\n",
    "\n",
    "$D_\\text{test} = D_3$\n",
    "\n",
    "5. \n",
    "\n",
    "$D_\\text{train} = D_5, D_1, D_2, D_3$\n",
    "\n",
    "$D_\\text{test} = D_4$"
   ]
  },
  {
   "cell_type": "markdown",
   "metadata": {},
   "source": [
    "Here, we designate the desired instances for each fold's training and testing set, by using a list of indices whose positions we will find our entries. "
   ]
  },
  {
   "cell_type": "code",
   "execution_count": 63,
   "metadata": {},
   "outputs": [],
   "source": [
    "### Create indices for cross validation \n",
    "def kfold_indices(data, k):\n",
    "    fold_size = len(data) // k\n",
    "    indices = np.arange(len(data))\n",
    "    folds = []\n",
    "    for i in range(k):\n",
    "        test_indices = indices[i * fold_size: (i + 1) * fold_size]\n",
    "        train_indices = np.concatenate([indices[:i * fold_size], indices[(i + 1) * fold_size:]])\n",
    "        folds.append((train_indices, test_indices))\n",
    "    return folds"
   ]
  },
  {
   "cell_type": "markdown",
   "metadata": {},
   "source": [
    "Once we have our folds, we can execute the random forest for each fold and return the scores. \n"
   ]
  },
  {
   "cell_type": "code",
   "execution_count": 64,
   "metadata": {},
   "outputs": [],
   "source": [
    "### Get cross val scores\n",
    "def cross_val(data, k, estimators):\n",
    "    \n",
    "    scores = []\n",
    "    \n",
    "    fold_indices = kfold_indices(data, k)\n",
    "    \n",
    "    for train_indices, test_indices in fold_indices:\n",
    "        data_train = data.iloc[train_indices]\n",
    "        data_test = data.iloc[test_indices]\n",
    "        \n",
    "        trees_ls = random_forest(data_train, n_estimators=estimators)\n",
    "        fold_score = model_testing(data_test, trees_ls)\n",
    "        \n",
    "        scores.append(fold_score)\n",
    "    \n",
    "    print(f'mean accuracy score: {np.mean(scores)}')\n",
    "    \n",
    "    return scores"
   ]
  },
  {
   "cell_type": "code",
   "execution_count": 65,
   "metadata": {},
   "outputs": [
    {
     "name": "stdout",
     "output_type": "stream",
     "text": [
      "mean accuracy score: 0.7538904899135448\n"
     ]
    }
   ],
   "source": [
    "scores = cross_val(prepped_df, k=5, estimators=10)"
   ]
  },
  {
   "cell_type": "code",
   "execution_count": 66,
   "metadata": {},
   "outputs": [
    {
     "data": {
      "text/plain": [
       "[0.7521613832853026,\n",
       " 0.7665706051873199,\n",
       " 0.7204610951008645,\n",
       " 0.7435158501440923,\n",
       " 0.7867435158501441]"
      ]
     },
     "execution_count": 66,
     "metadata": {},
     "output_type": "execute_result"
    }
   ],
   "source": [
    "scores"
   ]
  },
  {
   "cell_type": "markdown",
   "metadata": {},
   "source": [
    "We have a comprehensive list of scores for one set of hyperparameters on our training data. Our last leg of this process is **hyperparamter** tuning - the process of trying out multiple hyperparameters and trying to see how the model changes behavior. "
   ]
  },
  {
   "cell_type": "markdown",
   "metadata": {},
   "source": [
    "We have 3 hyperparameters - maximum depth, maximum number of features, and maximum number of estimators. \n",
    "\n",
    "So far we have been defaulting to a depth of 5, maximum number of 5 features to choose from, and 10 estimators. \n",
    "\n",
    "A good place to start is to choose values above and below our original hyperparameters, and test out cross validation on all of them. This is called *Grid Search Cross Validation*, and Sci-kit Learn has a function that impliments GridSearchCV very efficiently. However, in the spirit of this notebook so far, we'll be making our own. "
   ]
  },
  {
   "cell_type": "markdown",
   "metadata": {},
   "source": [
    "The logic is really quite simple. We amass a dictionary whose keys are the different types of hyperparameters (*max_depth*, *max_features*, and *n_estimators*), and store lists of values for each we want to try. Then we iterate through the dictionary and try every combination of hyperparameters (like we're iterating through a *grid* of values). It's important to note that this form of GridSearchCV implementation is computationally taxing, which is definitely something to consider when pondering this approach on much larger datasets. "
   ]
  },
  {
   "cell_type": "markdown",
   "metadata": {},
   "source": [
    "Let's first construct our dictionary of hyperparameter values. "
   ]
  },
  {
   "cell_type": "code",
   "execution_count": 69,
   "metadata": {},
   "outputs": [],
   "source": [
    "def create_hp_dict(depth_vals, feats_vals, est_vals):\n",
    "    \n",
    "    hp_grid = {\n",
    "\t\t'max_depth' : depth_vals,\n",
    "\t\t'max_features' : feats_vals,\n",
    "\t\t'n_estimators' : est_vals\n",
    "\t}\n",
    "    \n",
    "    return hp_grid"
   ]
  },
  {
   "cell_type": "code",
   "execution_count": 72,
   "metadata": {},
   "outputs": [],
   "source": [
    "depth_vals = [2, 6, 8]\n",
    "feats_vals = [3, 6, 10]\n",
    "est_vals = [5, 10, 20]\n",
    "\n",
    "hp_grid = create_hp_dict(depth_vals, feats_vals, est_vals)"
   ]
  },
  {
   "cell_type": "markdown",
   "metadata": {},
   "source": [
    "So far I've been using default values when running the Random Forest algorithm. We'll modify the cross validation function so it has the option to input different hyperparameters."
   ]
  },
  {
   "cell_type": "code",
   "execution_count": 78,
   "metadata": {},
   "outputs": [],
   "source": [
    "### Get cross val scores\n",
    "def cross_val_modded(data, k, estimators, max_depth, max_features):\n",
    "    \n",
    "    scores = []\n",
    "    \n",
    "    fold_indices = kfold_indices(data, k)\n",
    "    \n",
    "    for train_indices, test_indices in fold_indices:\n",
    "        data_train = data.iloc[train_indices]\n",
    "        data_test = data.iloc[test_indices]\n",
    "        \n",
    "        trees_ls = random_forest(data_train, n_estimators=estimators, max_depth=max_depth, max_features=max_features)\n",
    "        fold_score = model_testing(data_test, trees_ls)\n",
    "        \n",
    "        scores.append(fold_score)\n",
    "    \n",
    "    print(f'mean accuracy score: {np.mean(scores)}')\n",
    "    \n",
    "    return scores"
   ]
  },
  {
   "cell_type": "code",
   "execution_count": 87,
   "metadata": {},
   "outputs": [],
   "source": [
    "def grid_searchCV(data, k, hp_grid):\n",
    "    \n",
    "    results_dict = {}\n",
    "    \n",
    "    for depth in hp_grid['max_depth']:\n",
    "        for feat in hp_grid['max_features']:\n",
    "            for est in hp_grid['n_estimators']:\n",
    "                results_key = (' ').join([str(depth), str(feat), str(est)])\n",
    "                results_value = cross_val_modded(data, k, estimators=est, max_depth = depth, max_features=feat)\n",
    "                results_dict[results_key] = results_value\n",
    "    \n",
    "    return results_dict"
   ]
  },
  {
   "cell_type": "code",
   "execution_count": 88,
   "metadata": {},
   "outputs": [
    {
     "name": "stdout",
     "output_type": "stream",
     "text": [
      "mean accuracy score: 0.7463976945244957\n",
      "mean accuracy score: 0.745821325648415\n",
      "mean accuracy score: 0.7463976945244957\n",
      "mean accuracy score: 0.7342939481268012\n",
      "mean accuracy score: 0.7463976945244957\n",
      "mean accuracy score: 0.7463976945244957\n",
      "mean accuracy score: 0.7452449567723343\n",
      "mean accuracy score: 0.7463976945244957\n",
      "mean accuracy score: 0.745821325648415\n",
      "mean accuracy score: 0.7544668587896254\n",
      "mean accuracy score: 0.7585014409221903\n",
      "mean accuracy score: 0.760806916426513\n",
      "mean accuracy score: 0.7533141210374639\n",
      "mean accuracy score: 0.7567723342939481\n",
      "mean accuracy score: 0.7671469740634006\n",
      "mean accuracy score: 0.7625360230547551\n",
      "mean accuracy score: 0.7625360230547551\n",
      "mean accuracy score: 0.7642651296829971\n",
      "mean accuracy score: 0.7556195965417867\n",
      "mean accuracy score: 0.760806916426513\n",
      "mean accuracy score: 0.7602305475504323\n",
      "mean accuracy score: 0.7556195965417868\n",
      "mean accuracy score: 0.7515850144092219\n",
      "mean accuracy score: 0.7567723342939481\n",
      "mean accuracy score: 0.7556195965417867\n",
      "mean accuracy score: 0.7521613832853026\n",
      "mean accuracy score: 0.7596541786743516\n"
     ]
    }
   ],
   "source": [
    "results_dict = grid_searchCV(prepped_df, k=5, hp_grid=hp_grid)"
   ]
  },
  {
   "cell_type": "code",
   "execution_count": 94,
   "metadata": {},
   "outputs": [
    {
     "ename": "TypeError",
     "evalue": "'numpy.float64' object is not iterable",
     "output_type": "error",
     "traceback": [
      "\u001b[1;31m---------------------------------------------------------------------------\u001b[0m",
      "\u001b[1;31mTypeError\u001b[0m                                 Traceback (most recent call last)",
      "Cell \u001b[1;32mIn[94], line 2\u001b[0m\n\u001b[0;32m      1\u001b[0m \u001b[38;5;28;01mfor\u001b[39;00m val \u001b[38;5;129;01min\u001b[39;00m results_dict\u001b[38;5;241m.\u001b[39mkeys():\n\u001b[1;32m----> 2\u001b[0m     results_dict[val] \u001b[38;5;241m=\u001b[39m \u001b[38;5;28;43msum\u001b[39;49m\u001b[43m(\u001b[49m\u001b[43mresults_dict\u001b[49m\u001b[43m[\u001b[49m\u001b[43mval\u001b[49m\u001b[43m]\u001b[49m\u001b[43m)\u001b[49m \u001b[38;5;241m/\u001b[39m \u001b[38;5;28mlen\u001b[39m(results_dict[val])\n",
      "\u001b[1;31mTypeError\u001b[0m: 'numpy.float64' object is not iterable"
     ]
    }
   ],
   "source": [
    "for val in results_dict.keys():\n",
    "    results_dict[val] = sum(results_dict[val]) / len(results_dict[val])\n"
   ]
  },
  {
   "cell_type": "code",
   "execution_count": 96,
   "metadata": {},
   "outputs": [],
   "source": [
    "key_highest_value = max(results_dict, key=results_dict.get)"
   ]
  },
  {
   "cell_type": "code",
   "execution_count": 102,
   "metadata": {},
   "outputs": [
    {
     "name": "stdout",
     "output_type": "stream",
     "text": [
      "Best Parameters:\n",
      "max depth : 6\n",
      "max features : 6\n",
      "number of estimators : 20\n",
      "\n",
      "Best Mean Score : 0.77\n"
     ]
    }
   ],
   "source": [
    "best_params = key_highest_value.split(' ')\n",
    "param_labels = ['max depth', 'max features', 'number of estimators']\n",
    "\n",
    "print(\"Best Parameters:\")\n",
    "\n",
    "for i in range(len(param_labels)):\n",
    "    print(f\"{param_labels[i]} : {best_params[i]}\")\n",
    "print('')\n",
    "print(f\"Best Mean Score : {results_dict[key_highest_value] :.2f}\")"
   ]
  },
  {
   "cell_type": "markdown",
   "metadata": {},
   "source": [
    "# Conclusion"
   ]
  },
  {
   "cell_type": "markdown",
   "metadata": {},
   "source": [
    "Ultimately it seems our best random forest classifier (given our choices) is one with a maximum tree depth of 6, a maximum feature pool of 6, and 20 estimators. This can be expounded upon with multitudes of complexity, but the goal of this notebook was to achieve the entire flow by using nothing but math, which we have now successfully accomplished. The last task to perfect the model before deployment would be to make our parameter grid more robust and test out even more hyperparameters. "
   ]
  },
  {
   "cell_type": "markdown",
   "metadata": {},
   "source": [
    "There is an idea that artifical intelligence is this vast leap in computational structure that is inaccessible for the standard data scientist to understand. Though this is only a drop in the ocean of mechanisms that have lead to AI being what it is today, this notebook shows that at its core, machine learning is pattern recognition through logic and mathematics. I hope to make more of these with different types of algorithms, and I truly believe this practice allows a data scientist into a new world of model customization and a deeper understanding for the goals, benchmarks, and drawbacks we undertake when we approach these problems. "
   ]
  }
 ],
 "metadata": {
  "kernelspec": {
   "display_name": "cmi",
   "language": "python",
   "name": "python3"
  },
  "language_info": {
   "codemirror_mode": {
    "name": "ipython",
    "version": 3
   },
   "file_extension": ".py",
   "mimetype": "text/x-python",
   "name": "python",
   "nbconvert_exporter": "python",
   "pygments_lexer": "ipython3",
   "version": "3.10.13"
  }
 },
 "nbformat": 4,
 "nbformat_minor": 2
}
